{
 "cells": [
  {
   "cell_type": "markdown",
   "metadata": {},
   "source": [
    "### Exercícios - Moavi"
   ]
  },
  {
   "cell_type": "markdown",
   "metadata": {},
   "source": [
    "1 - Frequency sort"
   ]
  },
  {
   "cell_type": "code",
   "execution_count": 1,
   "metadata": {},
   "outputs": [
    {
     "name": "stdout",
     "output_type": "stream",
     "text": [
      "[4, 4, 4, 4, 2, 2, 6, 6]\n"
     ]
    }
   ],
   "source": [
    "def frequency_sort(items):\n",
    "    items.sort() # ordena os itens da lista em ordem crescente e os agrupa\n",
    "    ordered = sorted(items, key=items.count, reverse=True) # ordena os itens da lista por suas frequencias em ordem decrescente agrupados\n",
    "    return ordered\n",
    "\n",
    "list1 = [4, 6, 2, 2, 6, 4, 4, 4]\n",
    "\n",
    "print(frequency_sort(list1))"
   ]
  },
  {
   "cell_type": "code",
   "execution_count": 2,
   "metadata": {},
   "outputs": [
    {
     "name": "stdout",
     "output_type": "stream",
     "text": [
      "Teste 1 - Ok!\n",
      "Teste 2 - Ok!\n",
      "Teste 3 - Ok!\n",
      "Teste 4 - Ok!\n"
     ]
    }
   ],
   "source": [
    "# Testes:\n",
    "\n",
    "a = [4, 6, 2, 2, 6, 4, 4, 4]\n",
    "b = [4, 6, 1, 2, 2, 1, 1, 6, 1, 1, 6, 4, 4, 1]\n",
    "c = [17, 99, 42]\n",
    "d = ['bob','bob','carl','alex','bob']\n",
    "\n",
    "print('Teste 1 - Ok!') if frequency_sort(a) == [4, 4, 4, 4, 2, 2, 6, 6] else print('Erro')\n",
    "print('Teste 2 - Ok!') if frequency_sort(b) == [1, 1, 1, 1, 1, 1, 4, 4, 4, 6, 6, 6, 2, 2] else print('Erro')\n",
    "print('Teste 3 - Ok!') if frequency_sort(c) == [17, 42, 99] else print('Erro')\n",
    "print('Teste 4 - Ok!') if frequency_sort(d) == ['bob','bob','bob','alex','carl']  else print('Erro')"
   ]
  },
  {
   "cell_type": "markdown",
   "metadata": {},
   "source": [
    "2 - Reverse the vowels"
   ]
  },
  {
   "cell_type": "code",
   "execution_count": 3,
   "metadata": {},
   "outputs": [
    {
     "name": "stdout",
     "output_type": "stream",
     "text": [
      "Bongt Hulgirssen\n"
     ]
    }
   ],
   "source": [
    "def reverse_vowels(text):\n",
    "    vogais = 'aeiouAEIOU'\n",
    "    vogStr = ''\n",
    "    for let in text: # Extrai as vogais da string e constroi uma nova string\n",
    "        if let in vogais:\n",
    "            vogStr += let\n",
    "    inv_text = ''\n",
    "    for let in text: # Constroi uma nova string a partir na string inicial\n",
    "        if let in vogais:\n",
    "            inv_text += vogStr[-1] # Coloca a ultima string no lugar da primeira na nova string\n",
    "            vogStr = vogStr[:-1] # pula para a vogal anterior para a próxima verificação que retornar uma vogal\n",
    "        else:\n",
    "            inv_text += let # adiciona a letra verificada à string caso ela não seja uma vogal\n",
    "    return inv_text\n",
    "\n",
    "print(reverse_vowels('Bengt Hilgursson'))"
   ]
  },
  {
   "cell_type": "code",
   "execution_count": 4,
   "metadata": {},
   "outputs": [
    {
     "name": "stdout",
     "output_type": "stream",
     "text": [
      "Teste 1 - Ok!\n",
      "Teste 2 - Ok!\n",
      "Teste 3 - Ok!\n",
      "Teste 4 - Ok!\n"
     ]
    }
   ],
   "source": [
    "# Testes:\n",
    "\n",
    "a = 'Bengt Hilgursson'\n",
    "b = 'Why do you laugh? I chose the death.'\n",
    "c = 'These are the people you protect with your pain!'\n",
    "d = 'We had to sacrifice a couple of miners to free Bolivia.'\n",
    "\n",
    "print('Teste 1 - Ok!') if reverse_vowels(a) == 'Bongt Hulgirssen' else print('Erro')\n",
    "print('Teste 2 - Ok!') if reverse_vowels(b) == 'Why da yee leogh? I chusa thu dooth.'  else print('Erro')\n",
    "print('Teste 3 - Ok!') if reverse_vowels(c) == 'Thisa uro thi peoplu yoe protect weth year peen!' else print('Erro')\n",
    "print('Teste 4 - Ok!') if reverse_vowels(d) == 'Wa hid ti socrefeco e ciople uf monars te frii Balovae.'  else print('Erro')"
   ]
  },
  {
   "cell_type": "markdown",
   "metadata": {},
   "source": [
    "3 - Collapse positive integer intervals"
   ]
  },
  {
   "cell_type": "code",
   "execution_count": 14,
   "metadata": {},
   "outputs": [
    {
     "name": "stdout",
     "output_type": "stream",
     "text": [
      "1-2,4,6-10,12-13\n"
     ]
    }
   ],
   "source": [
    "def collapse_intervals(items):\n",
    "    ini = []\n",
    "    fin = []\n",
    "    interv = []\n",
    "    \n",
    "    for i in range(len(items)):\n",
    "        if items[i] != items[i-1] + 1:\n",
    "            ini.append(items[i])\n",
    "    \n",
    "    items = items[::-1]\n",
    "    for i in range(len(items)):\n",
    "        if items[i] != items[i-1] - 1:\n",
    "            fin.append(items[i])\n",
    "    fin.sort()\n",
    "    \n",
    "    for j in range(len(ini)):\n",
    "        if ini[j] == fin[j]:\n",
    "            interv.append(str(ini[j]))\n",
    "        else:\n",
    "            interv.append(str(ini[j]) +'-' + str(fin[j]))\n",
    "    \n",
    "    res = ','.join(interv)\n",
    "    \n",
    "    return res\n",
    "\n",
    "teste = [1, 2, 4, 6, 7, 8, 9, 10, 12, 13]\n",
    "\n",
    "print(collapse_intervals(teste))"
   ]
  },
  {
   "cell_type": "code",
   "execution_count": 16,
   "metadata": {},
   "outputs": [
    {
     "name": "stdout",
     "output_type": "stream",
     "text": [
      "Teste 1 - Ok!\n",
      "Teste 2 - Ok!\n",
      "Teste 3 - Ok!\n",
      "Teste 4 - Ok!\n",
      "Teste 5 - Ok!\n"
     ]
    }
   ],
   "source": [
    "# Testes:\n",
    "\n",
    "a = [1, 2, 4, 6, 7, 8, 9, 10, 12, 13]\n",
    "b = [42]\n",
    "c = [3, 5, 6, 7, 9, 11, 12, 13]\n",
    "d = []\n",
    "e = range(1, 1000001)\n",
    "\n",
    "print('Teste 1 - Ok!') if collapse_intervals(a) == '1-2,4,6-10,12-13' else print('Erro')\n",
    "print('Teste 2 - Ok!') if collapse_intervals(b) == '42' else print('Erro')\n",
    "print('Teste 3 - Ok!') if collapse_intervals(c) == '3,5-7,9,11-13' else print('Erro')\n",
    "print('Teste 4 - Ok!') if collapse_intervals(d) == '' else print('Erro')\n",
    "print('Teste 5 - Ok!') if collapse_intervals(e) == '1-1000000' else print('Erro')"
   ]
  },
  {
   "cell_type": "markdown",
   "metadata": {},
   "source": [
    "4 - Calculate employee distribution"
   ]
  },
  {
   "cell_type": "code",
   "execution_count": null,
   "metadata": {},
   "outputs": [],
   "source": [
    "def calc_employee_dist(filepath):"
   ]
  }
 ],
 "metadata": {
  "kernelspec": {
   "display_name": "Python 3.10.5 64-bit",
   "language": "python",
   "name": "python3"
  },
  "language_info": {
   "codemirror_mode": {
    "name": "ipython",
    "version": 3
   },
   "file_extension": ".py",
   "mimetype": "text/x-python",
   "name": "python",
   "nbconvert_exporter": "python",
   "pygments_lexer": "ipython3",
   "version": "3.10.5"
  },
  "orig_nbformat": 4,
  "vscode": {
   "interpreter": {
    "hash": "ed3943dba37f3ed717092a780584c496f36863d6c99891baccd6632ecc02cdda"
   }
  }
 },
 "nbformat": 4,
 "nbformat_minor": 2
}
