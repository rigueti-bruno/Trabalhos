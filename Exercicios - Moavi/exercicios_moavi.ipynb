{
 "cells": [
  {
   "cell_type": "markdown",
   "metadata": {},
   "source": [
    "### Exercícios - Moavi"
   ]
  },
  {
   "cell_type": "markdown",
   "metadata": {},
   "source": [
    "1 - Frequency sort"
   ]
  },
  {
   "cell_type": "code",
   "execution_count": 2,
   "metadata": {},
   "outputs": [
    {
     "name": "stdout",
     "output_type": "stream",
     "text": [
      "[4, 4, 4, 4, 2, 2, 6, 6]\n"
     ]
    }
   ],
   "source": [
    "def frequency_sort(items):\n",
    "    items.sort() # ordena os itens da lista em ordem crescente e os agrupa\n",
    "    ordered = sorted(items, key=items.count, reverse=True) # ordena os itens da lista por suas frequencias em ordem decrescente agrupados\n",
    "    return ordered\n",
    "\n",
    "list1 = [4, 6, 2, 2, 6, 4, 4, 4]\n",
    "\n",
    "print(frequency_sort(list1))"
   ]
  },
  {
   "cell_type": "code",
   "execution_count": 3,
   "metadata": {},
   "outputs": [
    {
     "name": "stdout",
     "output_type": "stream",
     "text": [
      "Teste 1 - Ok!\n",
      "Teste 2 - Ok!\n",
      "Teste 3 - Ok!\n",
      "Teste 4 - Ok!\n"
     ]
    }
   ],
   "source": [
    "# Testes:\n",
    "\n",
    "a = [4, 6, 2, 2, 6, 4, 4, 4]\n",
    "b = [4, 6, 1, 2, 2, 1, 1, 6, 1, 1, 6, 4, 4, 1]\n",
    "c = [17, 99, 42]\n",
    "d = ['bob','bob','carl','alex','bob']\n",
    "\n",
    "print('Teste 1 - Ok!') if frequency_sort(a) == [4, 4, 4, 4, 2, 2, 6, 6] else print('Erro')\n",
    "print('Teste 2 - Ok!') if frequency_sort(b) == [1, 1, 1, 1, 1, 1, 4, 4, 4, 6, 6, 6, 2, 2] else print('Erro')\n",
    "print('Teste 3 - Ok!') if frequency_sort(c) == [17, 42, 99] else print('Erro')\n",
    "print('Teste 4 - Ok!') if frequency_sort(d) == ['bob','bob','bob','alex','carl']  else print('Erro')"
   ]
  },
  {
   "cell_type": "markdown",
   "metadata": {},
   "source": [
    "2 - Reverse the vowels"
   ]
  },
  {
   "cell_type": "code",
   "execution_count": 4,
   "metadata": {},
   "outputs": [
    {
     "name": "stdout",
     "output_type": "stream",
     "text": [
      "Bongt Hulgirssen\n"
     ]
    }
   ],
   "source": [
    "def reverse_vowels(text):\n",
    "    vogais = 'aeiouAEIOU'\n",
    "    vogStr = ''\n",
    "    for let in text: # Extrai as vogais da string e constroi uma nova string\n",
    "        if let in vogais:\n",
    "            vogStr += let\n",
    "    inv_text = ''\n",
    "    for let in text: # Constroi uma nova string a partir na string inicial\n",
    "        if let in vogais:\n",
    "            inv_text += vogStr[-1] # Coloca a ultima string no lugar da primeira na nova string\n",
    "            vogStr = vogStr[:-1] # pula para a vogal anterior para a próxima verificação que retornar uma vogal\n",
    "        else:\n",
    "            inv_text += let # adiciona a letra verificada à string caso ela não seja uma vogal\n",
    "    return inv_text\n",
    "\n",
    "print(reverse_vowels('Bengt Hilgursson'))"
   ]
  },
  {
   "cell_type": "code",
   "execution_count": 5,
   "metadata": {},
   "outputs": [
    {
     "name": "stdout",
     "output_type": "stream",
     "text": [
      "Teste 1 - Ok!\n",
      "Teste 2 - Ok!\n",
      "Teste 3 - Ok!\n",
      "Teste 4 - Ok!\n"
     ]
    }
   ],
   "source": [
    "# Testes:\n",
    "\n",
    "a = 'Bengt Hilgursson'\n",
    "b = 'Why do you laugh? I chose the death.'\n",
    "c = 'These are the people you protect with your pain!'\n",
    "d = 'We had to sacrifice a couple of miners to free Bolivia.'\n",
    "\n",
    "print('Teste 1 - Ok!') if reverse_vowels(a) == 'Bongt Hulgirssen' else print('Erro')\n",
    "print('Teste 2 - Ok!') if reverse_vowels(b) == 'Why da yee leogh? I chusa thu dooth.'  else print('Erro')\n",
    "print('Teste 3 - Ok!') if reverse_vowels(c) == 'Thisa uro thi peoplu yoe protect weth year peen!' else print('Erro')\n",
    "print('Teste 4 - Ok!') if reverse_vowels(d) == 'Wa hid ti socrefeco e ciople uf monars te frii Balovae.'  else print('Erro')"
   ]
  },
  {
   "cell_type": "markdown",
   "metadata": {},
   "source": [
    "3 - Collapse positive integer intervals"
   ]
  },
  {
   "cell_type": "code",
   "execution_count": 6,
   "metadata": {},
   "outputs": [
    {
     "name": "stdout",
     "output_type": "stream",
     "text": [
      "1-2,4,6-10,12-13\n"
     ]
    }
   ],
   "source": [
    "def collapse_intervals(items):\n",
    "    ini = []\n",
    "    fin = []\n",
    "    interv = []\n",
    "    \n",
    "    for i in range(len(items)):\n",
    "        if items[i] != items[i-1] + 1:\n",
    "            ini.append(items[i])\n",
    "    \n",
    "    items = items[::-1]\n",
    "    for i in range(len(items)):\n",
    "        if items[i] != items[i-1] - 1:\n",
    "            fin.append(items[i])\n",
    "    fin.sort()\n",
    "    \n",
    "    for j in range(len(ini)):\n",
    "        if ini[j] == fin[j]:\n",
    "            interv.append(str(ini[j]))\n",
    "        else:\n",
    "            interv.append(str(ini[j]) +'-' + str(fin[j]))\n",
    "    \n",
    "    res = ','.join(interv)\n",
    "    \n",
    "    return res\n",
    "\n",
    "teste = [1, 2, 4, 6, 7, 8, 9, 10, 12, 13]\n",
    "\n",
    "print(collapse_intervals(teste))"
   ]
  },
  {
   "cell_type": "code",
   "execution_count": 7,
   "metadata": {},
   "outputs": [
    {
     "name": "stdout",
     "output_type": "stream",
     "text": [
      "Teste 1 - Ok!\n",
      "Teste 2 - Ok!\n",
      "Teste 3 - Ok!\n",
      "Teste 4 - Ok!\n",
      "Teste 5 - Ok!\n"
     ]
    }
   ],
   "source": [
    "# Testes:\n",
    "\n",
    "a = [1, 2, 4, 6, 7, 8, 9, 10, 12, 13]\n",
    "b = [42]\n",
    "c = [3, 5, 6, 7, 9, 11, 12, 13]\n",
    "d = []\n",
    "e = range(1, 1000001)\n",
    "\n",
    "print('Teste 1 - Ok!') if collapse_intervals(a) == '1-2,4,6-10,12-13' else print('Erro')\n",
    "print('Teste 2 - Ok!') if collapse_intervals(b) == '42' else print('Erro')\n",
    "print('Teste 3 - Ok!') if collapse_intervals(c) == '3,5-7,9,11-13' else print('Erro')\n",
    "print('Teste 4 - Ok!') if collapse_intervals(d) == '' else print('Erro')\n",
    "print('Teste 5 - Ok!') if collapse_intervals(e) == '1-1000000' else print('Erro')"
   ]
  },
  {
   "cell_type": "markdown",
   "metadata": {},
   "source": [
    "4 - Calculate employee distribution"
   ]
  },
  {
   "cell_type": "code",
   "execution_count": 111,
   "metadata": {},
   "outputs": [
    {
     "name": "stdout",
     "output_type": "stream",
     "text": [
      "[1, 1, 1, 1, 1, 1, 1, 1, 1, 1, 1, 1, 1, 1, 1, 1, 1, 1, 1, 1, 1, 1, 1, 1, 1, 1, 1, 1, 1, 2, 1, 1, 1, 2, 2, 2, 2, 2, 2, 1, 1, 1, 2, 2, 2, 2, 2, 2, 3, 2, 2, 2, 2, 2, 2, 2, 2, 2, 2, 2, 2, 2, 2, 2, 2, 3, 3, 3, 3, 2, 2, 2, 3, 3, 3, 3, 3, 3, 2, 2, 2, 2, 2, 2, 2, 2, 2, 2, 2, 2, 2, 2, 2, 3, 2, 2, 3, 3, 3, 3, 3, 3, 3, 3, 3, 2, 2, 2, 3, 2, 2, 2, 3, 3, 2, 2, 2, 2, 2, 2, 2, 2, 2, 2, 2, 2, 2, 2, 2, 2, 2, 2, 2, 2, 2, 2, 2, 2, 2, 2, 2, 2, 1, 1]\n"
     ]
    }
   ],
   "source": [
    "def calc_employee_dist(filepath):\n",
    "    import pandas as pd\n",
    "    import datetime as dt\n",
    "    keys = range(0,1440,10)    \n",
    "    data = pd.read_csv(filepath)\n",
    "    for i in data.columns:\n",
    "        data[i] = pd.to_datetime(data[i])\n",
    "        data[i] = data[i].dt.hour * 60 + data[i].dt.minute\n",
    "    for i in range(len(data)):\n",
    "        import datetime as dt\n",
    "        if data.loc[i,'s2'] == 0:\n",
    "            data.loc[i,'s2'] = data.loc[i,'s2'] + 1430\n",
    "    x = []\n",
    "    for j in range(len(data)):    \n",
    "        i = data['e1'].iloc[j]\n",
    "        while i <= data['s1'].iloc[j]:\n",
    "            x.append(i)\n",
    "            i += 10\n",
    "    for j in range(len(data)):    \n",
    "        i = data['e2'].iloc[j]\n",
    "        while i <= data['s2'].iloc[j]:\n",
    "            x.append(i)\n",
    "            i += 10\n",
    "    y = []\n",
    "    for i in keys:\n",
    "        y.append(x.count(i))\n",
    "    return y\n",
    "\n",
    "print(calc_employee_dist('data.csv'))"
   ]
  },
  {
   "cell_type": "code",
   "execution_count": 112,
   "metadata": {},
   "outputs": [
    {
     "name": "stdout",
     "output_type": "stream",
     "text": [
      "Erro\n"
     ]
    }
   ],
   "source": [
    "# Teste:\n",
    "a = 'data.csv'\n",
    "print('Teste 1 - Ok!') if calc_employee_dist(a) == [1,1,1,1,1,1,1,1,1,1,1,1,1,1,1,1,1,1,1,1,1,1,1,1,1,1, \n",
    "1,1,1,1,1,1,1,2,2,2,2,2,1,1,1,1,2,2,2,2,2,2,2,2,2,2,2, \n",
    "2,2,2,2,2,2,2,2,2,2,2,2,3,3,3,2,2,2,2,3,3,3,3,3,2,2,2, \n",
    "2,2,2,2,2,2,2,2,2,2,2,2,2,2,2,2,2,3,3,3,3,3,3,3,2,2,2, \n",
    "2,2,2,2,2,3,2,2,2,2,2,2,2,2,2,2,2,2,2,2,2,2,2,2,2,2,2, \n",
    "2,2,2,2,2,2,2,1,1,1] else print('Erro')"
   ]
  },
  {
   "cell_type": "code",
   "execution_count": 113,
   "metadata": {},
   "outputs": [
    {
     "name": "stdout",
     "output_type": "stream",
     "text": [
      "[1, 1, 1, 1, 1, 1, 1, 1, 1, 1, 1, 1, 1, 1, 1, 1, 1, 1, 1, 1, 1, 1, 1, 1, 1, 1, 1, 1, 1, 1, 1, 1, 1, 2, 2, 2, 2, 2, 1, 1, 1, 1, 2, 2, 2, 2, 2, 2, 2, 2, 2, 2, 2, 2, 2, 2, 2, 2, 2, 2, 2, 2, 2, 2, 2, 3, 3, 3, 2, 2, 2, 2, 3, 3, 3, 3, 3, 2, 2, 2, 2, 2, 2, 2, 2, 2, 2, 2, 2, 2, 2, 2, 2, 2, 2, 2, 2, 3, 3, 3, 3, 3, 3, 3, 2, 2, 2, 2, 2, 2, 2, 2, 3, 2, 2, 2, 2, 2, 2, 2, 2, 2, 2, 2, 2, 2, 2, 2, 2, 2, 2, 2, 2, 2, 2, 2, 2, 2, 2, 2, 2, 1, 1, 1]\n",
      "[1, 1, 1, 1, 1, 1, 1, 1, 1, 1, 1, 1, 1, 1, 1, 1, 1, 1, 1, 1, 1, 1, 1, 1, 1, 1, 1, 1, 1, 2, 1, 1, 1, 2, 2, 2, 2, 2, 2, 1, 1, 1, 2, 2, 2, 2, 2, 2, 3, 2, 2, 2, 2, 2, 2, 2, 2, 2, 2, 2, 2, 2, 2, 2, 2, 3, 3, 3, 3, 2, 2, 2, 3, 3, 3, 3, 3, 3, 2, 2, 2, 2, 2, 2, 2, 2, 2, 2, 2, 2, 2, 2, 2, 3, 2, 2, 3, 3, 3, 3, 3, 3, 3, 3, 3, 2, 2, 2, 3, 2, 2, 2, 3, 3, 2, 2, 2, 2, 2, 2, 2, 2, 2, 2, 2, 2, 2, 2, 2, 2, 2, 2, 2, 2, 2, 2, 2, 2, 2, 2, 2, 2, 1, 1]\n",
      "[0, 10, 20, 30, 40, 50, 60, 70, 80, 90, 100, 110, 120, 130, 140, 150, 160, 170, 180, 190, 200, 210, 220, 230, 240, 250, 260, 270, 280, 290, 300, 310, 320, 330, 340, 350, 360, 370, 380, 390, 400, 410, 420, 430, 440, 450, 460, 470, 480, 490, 500, 510, 520, 530, 540, 550, 560, 570, 580, 590, 600, 610, 620, 630, 640, 650, 660, 670, 680, 690, 700, 710, 720, 730, 740, 750, 760, 770, 780, 790, 800, 810, 820, 830, 840, 850, 860, 870, 880, 890, 900, 910, 920, 930, 940, 950, 960, 970, 980, 990, 1000, 1010, 1020, 1030, 1040, 1050, 1060, 1070, 1080, 1090, 1100, 1110, 1120, 1130, 1140, 1150, 1160, 1170, 1180, 1190, 1200, 1210, 1220, 1230, 1240, 1250, 1260, 1270, 1280, 1290, 1300, 1310, 1320, 1330, 1340, 1350, 1360, 1370, 1380, 1390, 1400, 1410, 1420, 1430]\n",
      "144 144 144\n",
      "133\n",
      "11\n"
     ]
    }
   ],
   "source": [
    "# Tratamento de Erro:\n",
    "\n",
    "\n",
    "b = [1,1,1,1,1,1,1,1,1,1,1,1,1,1,1,1,1,1,1,1,1,1,1,1,1,1, \n",
    "1,1,1,1,1,1,1,2,2,2,2,2,1,1,1,1,2,2,2,2,2,2,2,2,2,2,2, \n",
    "2,2,2,2,2,2,2,2,2,2,2,2,3,3,3,2,2,2,2,3,3,3,3,3,2,2,2, \n",
    "2,2,2,2,2,2,2,2,2,2,2,2,2,2,2,2,2,3,3,3,3,3,3,3,2,2,2, \n",
    "2,2,2,2,2,3,2,2,2,2,2,2,2,2,2,2,2,2,2,2,2,2,2,2,2,2,2, \n",
    "2,2,2,2,2,2,2,1,1,1]\n",
    "\n",
    "c = calc_employee_dist('data.csv')\n",
    "\n",
    "x = []\n",
    "\n",
    "for i in range(len(b)):\n",
    "    if b[i] == c[i]:\n",
    "        x.append('ok')\n",
    "    else:\n",
    "        x.append('erro')\n",
    "print(b)\n",
    "print(c)\n",
    "print(keys)\n",
    "print(len(b), len(c), len(keys))\n",
    "print(x.count('ok'))\n",
    "print(x.count('erro'))"
   ]
  },
  {
   "cell_type": "code",
   "execution_count": 114,
   "metadata": {},
   "outputs": [
    {
     "data": {
      "text/plain": [
       "<matplotlib.legend.Legend at 0x1eae342baf0>"
      ]
     },
     "execution_count": 114,
     "metadata": {},
     "output_type": "execute_result"
    },
    {
     "data": {
      "image/png": "[encoded data removed]",
      "text/plain": [
       "<Figure size 1080x432 with 1 Axes>"
      ]
     },
     "metadata": {
      "needs_background": "light"
     },
     "output_type": "display_data"
    }
   ],
   "source": [
    "import matplotlib.pyplot as plt\n",
    "fig = plt.figure(figsize=(15,6))\n",
    "ax = plt.axes()\n",
    "\n",
    "ax.plot(keys, b, label='Esperado')\n",
    "ax.plot(keys, c, label='Real')\n",
    "ax.legend()"
   ]
  },
  {
   "cell_type": "markdown",
   "metadata": {},
   "source": [
    "Construção da Solução:"
   ]
  },
  {
   "cell_type": "code",
   "execution_count": 9,
   "metadata": {},
   "outputs": [
    {
     "data": {
      "text/plain": [
       "144"
      ]
     },
     "execution_count": 9,
     "metadata": {},
     "output_type": "execute_result"
    }
   ],
   "source": [
    "keys = [i for i in range(0,1440,10)]\n",
    "len(keys)"
   ]
  },
  {
   "cell_type": "code",
   "execution_count": 97,
   "metadata": {},
   "outputs": [
    {
     "data": {
      "text/html": [
       "<div>\n",
       "<style scoped>\n",
       "    .dataframe tbody tr th:only-of-type {\n",
       "        vertical-align: middle;\n",
       "    }\n",
       "\n",
       "    .dataframe tbody tr th {\n",
       "        vertical-align: top;\n",
       "    }\n",
       "\n",
       "    .dataframe thead th {\n",
       "        text-align: right;\n",
       "    }\n",
       "</style>\n",
       "<table border=\"1\" class=\"dataframe\">\n",
       "  <thead>\n",
       "    <tr style=\"text-align: right;\">\n",
       "      <th></th>\n",
       "      <th>e1</th>\n",
       "      <th>s1</th>\n",
       "      <th>e2</th>\n",
       "      <th>s2</th>\n",
       "    </tr>\n",
       "  </thead>\n",
       "  <tbody>\n",
       "    <tr>\n",
       "      <th>0</th>\n",
       "      <td>00:00</td>\n",
       "      <td>04:50</td>\n",
       "      <td>05:30</td>\n",
       "      <td>08:00</td>\n",
       "    </tr>\n",
       "    <tr>\n",
       "      <th>1</th>\n",
       "      <td>04:50</td>\n",
       "      <td>06:20</td>\n",
       "      <td>07:00</td>\n",
       "      <td>12:50</td>\n",
       "    </tr>\n",
       "    <tr>\n",
       "      <th>2</th>\n",
       "      <td>08:00</td>\n",
       "      <td>11:20</td>\n",
       "      <td>12:00</td>\n",
       "      <td>16:00</td>\n",
       "    </tr>\n",
       "    <tr>\n",
       "      <th>3</th>\n",
       "      <td>10:50</td>\n",
       "      <td>15:30</td>\n",
       "      <td>16:10</td>\n",
       "      <td>18:50</td>\n",
       "    </tr>\n",
       "    <tr>\n",
       "      <th>4</th>\n",
       "      <td>15:30</td>\n",
       "      <td>17:20</td>\n",
       "      <td>18:00</td>\n",
       "      <td>23:30</td>\n",
       "    </tr>\n",
       "    <tr>\n",
       "      <th>5</th>\n",
       "      <td>16:00</td>\n",
       "      <td>18:00</td>\n",
       "      <td>18:40</td>\n",
       "      <td>00:00</td>\n",
       "    </tr>\n",
       "  </tbody>\n",
       "</table>\n",
       "</div>"
      ],
      "text/plain": [
       "      e1     s1     e2      s2\n",
       "0  00:00  04:50  05:30  08:00 \n",
       "1  04:50  06:20  07:00  12:50 \n",
       "2  08:00  11:20  12:00  16:00 \n",
       "3  10:50  15:30  16:10  18:50 \n",
       "4  15:30  17:20  18:00  23:30 \n",
       "5  16:00  18:00  18:40   00:00"
      ]
     },
     "execution_count": 97,
     "metadata": {},
     "output_type": "execute_result"
    }
   ],
   "source": [
    "import pandas as pd\n",
    "data = pd.read_csv('data.csv')\n",
    "data"
   ]
  },
  {
   "cell_type": "code",
   "execution_count": 49,
   "metadata": {},
   "outputs": [
    {
     "data": {
      "text/plain": [
       "Index(['e1', 's1', 'e2', 's2'], dtype='object')"
      ]
     },
     "execution_count": 49,
     "metadata": {},
     "output_type": "execute_result"
    }
   ],
   "source": [
    "data.dtypes\n",
    "data.columns"
   ]
  },
  {
   "cell_type": "code",
   "execution_count": 70,
   "metadata": {},
   "outputs": [
    {
     "data": {
      "text/html": [
       "<div>\n",
       "<style scoped>\n",
       "    .dataframe tbody tr th:only-of-type {\n",
       "        vertical-align: middle;\n",
       "    }\n",
       "\n",
       "    .dataframe tbody tr th {\n",
       "        vertical-align: top;\n",
       "    }\n",
       "\n",
       "    .dataframe thead th {\n",
       "        text-align: right;\n",
       "    }\n",
       "</style>\n",
       "<table border=\"1\" class=\"dataframe\">\n",
       "  <thead>\n",
       "    <tr style=\"text-align: right;\">\n",
       "      <th></th>\n",
       "      <th>e1</th>\n",
       "      <th>s1</th>\n",
       "      <th>e2</th>\n",
       "      <th>s2</th>\n",
       "    </tr>\n",
       "  </thead>\n",
       "  <tbody>\n",
       "    <tr>\n",
       "      <th>0</th>\n",
       "      <td>290</td>\n",
       "      <td>380</td>\n",
       "      <td>420</td>\n",
       "      <td>770</td>\n",
       "    </tr>\n",
       "    <tr>\n",
       "      <th>1</th>\n",
       "      <td>480</td>\n",
       "      <td>680</td>\n",
       "      <td>720</td>\n",
       "      <td>960</td>\n",
       "    </tr>\n",
       "    <tr>\n",
       "      <th>2</th>\n",
       "      <td>650</td>\n",
       "      <td>930</td>\n",
       "      <td>970</td>\n",
       "      <td>1130</td>\n",
       "    </tr>\n",
       "    <tr>\n",
       "      <th>3</th>\n",
       "      <td>930</td>\n",
       "      <td>1040</td>\n",
       "      <td>1080</td>\n",
       "      <td>1410</td>\n",
       "    </tr>\n",
       "    <tr>\n",
       "      <th>4</th>\n",
       "      <td>960</td>\n",
       "      <td>1080</td>\n",
       "      <td>1120</td>\n",
       "      <td>0</td>\n",
       "    </tr>\n",
       "  </tbody>\n",
       "</table>\n",
       "</div>"
      ],
      "text/plain": [
       "    e1    s1    e2    s2\n",
       "0  290   380   420   770\n",
       "1  480   680   720   960\n",
       "2  650   930   970  1130\n",
       "3  930  1040  1080  1410\n",
       "4  960  1080  1120     0"
      ]
     },
     "execution_count": 70,
     "metadata": {},
     "output_type": "execute_result"
    }
   ],
   "source": [
    "import datetime as dt\n",
    "for i in data.columns:\n",
    "    data[i] = pd.to_datetime(data[i])\n",
    "    data[i] = data[i].dt.hour * 60 + data[i].dt.minute\n",
    "\n",
    "data"
   ]
  },
  {
   "cell_type": "code",
   "execution_count": 71,
   "metadata": {},
   "outputs": [
    {
     "data": {
      "text/html": [
       "<div>\n",
       "<style scoped>\n",
       "    .dataframe tbody tr th:only-of-type {\n",
       "        vertical-align: middle;\n",
       "    }\n",
       "\n",
       "    .dataframe tbody tr th {\n",
       "        vertical-align: top;\n",
       "    }\n",
       "\n",
       "    .dataframe thead th {\n",
       "        text-align: right;\n",
       "    }\n",
       "</style>\n",
       "<table border=\"1\" class=\"dataframe\">\n",
       "  <thead>\n",
       "    <tr style=\"text-align: right;\">\n",
       "      <th></th>\n",
       "      <th>e1</th>\n",
       "      <th>s1</th>\n",
       "      <th>e2</th>\n",
       "      <th>s2</th>\n",
       "    </tr>\n",
       "  </thead>\n",
       "  <tbody>\n",
       "    <tr>\n",
       "      <th>0</th>\n",
       "      <td>290</td>\n",
       "      <td>380</td>\n",
       "      <td>420</td>\n",
       "      <td>770</td>\n",
       "    </tr>\n",
       "    <tr>\n",
       "      <th>1</th>\n",
       "      <td>480</td>\n",
       "      <td>680</td>\n",
       "      <td>720</td>\n",
       "      <td>960</td>\n",
       "    </tr>\n",
       "    <tr>\n",
       "      <th>2</th>\n",
       "      <td>650</td>\n",
       "      <td>930</td>\n",
       "      <td>970</td>\n",
       "      <td>1130</td>\n",
       "    </tr>\n",
       "    <tr>\n",
       "      <th>3</th>\n",
       "      <td>930</td>\n",
       "      <td>1040</td>\n",
       "      <td>1080</td>\n",
       "      <td>1410</td>\n",
       "    </tr>\n",
       "    <tr>\n",
       "      <th>4</th>\n",
       "      <td>960</td>\n",
       "      <td>1080</td>\n",
       "      <td>1120</td>\n",
       "      <td>1430</td>\n",
       "    </tr>\n",
       "  </tbody>\n",
       "</table>\n",
       "</div>"
      ],
      "text/plain": [
       "    e1    s1    e2    s2\n",
       "0  290   380   420   770\n",
       "1  480   680   720   960\n",
       "2  650   930   970  1130\n",
       "3  930  1040  1080  1410\n",
       "4  960  1080  1120  1430"
      ]
     },
     "execution_count": 71,
     "metadata": {},
     "output_type": "execute_result"
    }
   ],
   "source": [
    "for i in range(len(data)):\n",
    "    import datetime as dt\n",
    "    if data.loc[i,'s2'] == 0:\n",
    "        data.loc[i,'s2'] = data.loc[i,'s2'] + 1430\n",
    "        \n",
    "data"
   ]
  },
  {
   "cell_type": "code",
   "execution_count": 74,
   "metadata": {},
   "outputs": [
    {
     "data": {
      "text/plain": [
       "e1    int64\n",
       "s1    int64\n",
       "e2    int64\n",
       "s2    int64\n",
       "dtype: object"
      ]
     },
     "execution_count": 74,
     "metadata": {},
     "output_type": "execute_result"
    }
   ],
   "source": [
    "data.dtypes"
   ]
  },
  {
   "cell_type": "code",
   "execution_count": 75,
   "metadata": {},
   "outputs": [
    {
     "data": {
      "text/plain": [
       "5"
      ]
     },
     "execution_count": 75,
     "metadata": {},
     "output_type": "execute_result"
    }
   ],
   "source": [
    "len(data)"
   ]
  },
  {
   "cell_type": "code",
   "execution_count": 92,
   "metadata": {},
   "outputs": [
    {
     "data": {
      "text/plain": [
       "144"
      ]
     },
     "execution_count": 92,
     "metadata": {},
     "output_type": "execute_result"
    }
   ],
   "source": [
    "x = []\n",
    "for j in range(len(data)):    \n",
    "    i = data['e1'].iloc[j]\n",
    "    while i <= data['s1'].iloc[j]:\n",
    "        x.append(i)\n",
    "        i += 10\n",
    "for j in range(len(data)):    \n",
    "    i = data['e2'].iloc[j]\n",
    "    while i <= data['s2'].iloc[j]:\n",
    "        x.append(i)\n",
    "        i += 10\n",
    "    #x.append(y)\n",
    "    \n",
    "#x = pd.DataFrame(x)\n",
    "\n",
    "y = []\n",
    "\n",
    "for i in keys:\n",
    "    y.append(x.count(i))\n",
    "    \n",
    "len(y)"
   ]
  },
  {
   "cell_type": "code",
   "execution_count": 105,
   "metadata": {},
   "outputs": [
    {
     "name": "stdout",
     "output_type": "stream",
     "text": [
      "[0, 10, 20, 30, 40, 50, 60, 70, 80, 90, 100, 110, 120, 130, 140, 150, 160, 170, 180, 190, 200, 210, 220, 230, 240, 250, 260, 270, 280, 290, 300, 310, 320, 330, 340, 350, 360, 370, 380, 390, 400, 410, 420, 430, 440, 450, 460, 470, 480, 490, 500, 510, 520, 530, 540, 550, 560, 570, 580, 590, 600, 610, 620, 630, 640, 650, 660, 670, 680, 690, 700, 710, 720, 730, 740, 750, 760, 770, 780, 790, 800, 810, 820, 830, 840, 850, 860, 870, 880, 890, 900, 910, 920, 930, 940, 950, 960, 970, 980, 990, 1000, 1010, 1020, 1030, 1040, 1050, 1060, 1070, 1080, 1090, 1100, 1110, 1120, 1130, 1140, 1150, 1160, 1170, 1180, 1190, 1200, 1210, 1220, 1230, 1240, 1250, 1260, 1270, 1280, 1290, 1300, 1310, 1320, 1330, 1340, 1350, 1360, 1370, 1380, 1390, 1400, 1410, 1420, 1430]\n"
     ]
    }
   ],
   "source": [
    "print(keys)"
   ]
  }
 ],
 "metadata": {
  "kernelspec": {
   "display_name": "Python 3.10.5 64-bit",
   "language": "python",
   "name": "python3"
  },
  "language_info": {
   "codemirror_mode": {
    "name": "ipython",
    "version": 3
   },
   "file_extension": ".py",
   "mimetype": "text/x-python",
   "name": "python",
   "nbconvert_exporter": "python",
   "pygments_lexer": "ipython3",
   "version": "3.10.5"
  },
  "orig_nbformat": 4,
  "vscode": {
   "interpreter": {
    "hash": "ed3943dba37f3ed717092a780584c496f36863d6c99891baccd6632ecc02cdda"
   }
  }
 },
 "nbformat": 4,
 "nbformat_minor": 2
}
